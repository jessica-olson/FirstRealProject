{
 "cells": [
  {
   "cell_type": "code",
   "execution_count": null,
   "id": "7298d2c0",
   "metadata": {},
   "outputs": [],
   "source": [
    "print(\"This is a super dope cowrse and I love it!\")\n",
    "\n",
    "print(\"This is some bad code I should really remove...\")"
   ]
  }
 ],
 "metadata": {
  "language_info": {
   "name": "python"
  }
 },
 "nbformat": 4,
 "nbformat_minor": 5
}
