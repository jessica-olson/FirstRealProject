{
 "cells": [
  {
   "cell_type": "code",
   "execution_count": null,
   "id": "7298d2c0",
   "metadata": {},
   "outputs": [],
   "source": [
    "print(\"This is a super dope course and I love it!\")\n",
    "\n",
    "print(\"This is great, love the new code I do.\")"
   ]
  }
 ],
 "metadata": {
  "language_info": {
   "name": "python"
  }
 },
 "nbformat": 4,
 "nbformat_minor": 5
}
