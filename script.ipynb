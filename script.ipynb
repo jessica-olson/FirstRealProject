{
 "cells": [
  {
   "cell_type": "code",
   "execution_count": null,
   "id": "7298d2c0",
   "metadata": {},
   "outputs": [],
   "source": [
    "print(\"This is a super dope course and I love it!\")\n"
   ]
  }
 ],
 "metadata": {
  "language_info": {
   "name": "python"
  }
 },
 "nbformat": 4,
 "nbformat_minor": 5
}
